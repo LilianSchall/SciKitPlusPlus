{
 "cells": [
  {
   "cell_type": "code",
   "execution_count": 17,
   "id": "a2f4241b-6cb2-4cf3-8100-8eac2bf568fa",
   "metadata": {},
   "outputs": [],
   "source": [
    "from sklearn.datasets import load_iris\n",
    "from sklearn.linear_model import LogisticRegression\n",
    "import struct\n",
    "import numpy as np"
   ]
  },
  {
   "cell_type": "code",
   "execution_count": 2,
   "id": "546ee0cc-32ba-48d4-8720-a60dfa1a9b77",
   "metadata": {},
   "outputs": [],
   "source": [
    "X, y = load_iris(return_X_y=True)"
   ]
  },
  {
   "cell_type": "code",
   "execution_count": 3,
   "id": "a18f1808-18b0-4418-b2b9-76aeb2e15468",
   "metadata": {},
   "outputs": [
    {
     "name": "stderr",
     "output_type": "stream",
     "text": [
      "/opt/conda/lib/python3.11/site-packages/sklearn/linear_model/_logistic.py:469: ConvergenceWarning: lbfgs failed to converge (status=1):\n",
      "STOP: TOTAL NO. of ITERATIONS REACHED LIMIT.\n",
      "\n",
      "Increase the number of iterations (max_iter) or scale the data as shown in:\n",
      "    https://scikit-learn.org/stable/modules/preprocessing.html\n",
      "Please also refer to the documentation for alternative solver options:\n",
      "    https://scikit-learn.org/stable/modules/linear_model.html#logistic-regression\n",
      "  n_iter_i = _check_optimize_result(\n"
     ]
    }
   ],
   "source": [
    "clf = LogisticRegression(random_state=0).fit(X, y)"
   ]
  },
  {
   "cell_type": "code",
   "execution_count": 4,
   "id": "e9fc8c7f-7ded-47be-9100-7a04d5aa08f1",
   "metadata": {},
   "outputs": [
    {
     "data": {
      "text/plain": [
       "array([0, 0])"
      ]
     },
     "execution_count": 4,
     "metadata": {},
     "output_type": "execute_result"
    }
   ],
   "source": [
    "clf.predict(X[:2, :])"
   ]
  },
  {
   "cell_type": "code",
   "execution_count": 5,
   "id": "ada943fc-0244-43dc-af7f-ec017fd976c4",
   "metadata": {},
   "outputs": [
    {
     "data": {
      "text/plain": [
       "0.9733333333333334"
      ]
     },
     "execution_count": 5,
     "metadata": {},
     "output_type": "execute_result"
    }
   ],
   "source": [
    "clf.score(X, y)"
   ]
  },
  {
   "cell_type": "code",
   "execution_count": 19,
   "id": "6d82bc00-491b-4f3b-8973-c02a488deda7",
   "metadata": {},
   "outputs": [
    {
     "data": {
      "text/plain": [
       "numpy.ndarray"
      ]
     },
     "execution_count": 19,
     "metadata": {},
     "output_type": "execute_result"
    }
   ],
   "source": [
    "type(y)"
   ]
  },
  {
   "cell_type": "code",
   "execution_count": 14,
   "id": "6a20fb85-f908-4cc2-8bde-390ade89ccc5",
   "metadata": {},
   "outputs": [
    {
     "data": {
      "text/plain": [
       "[1, 150, 4]"
      ]
     },
     "execution_count": 14,
     "metadata": {},
     "output_type": "execute_result"
    }
   ],
   "source": [
    "[1] + list(X.shape)"
   ]
  },
  {
   "cell_type": "code",
   "execution_count": 21,
   "id": "2f255ee4-2e77-41d4-9b60-35014ae6055f",
   "metadata": {},
   "outputs": [],
   "source": [
    "def serialize_matrix(x: np.ndarray, filepath: str):\n",
    "\n",
    "    shape_size = len(x.shape)\n",
    "    metadata = [shape_size] + list(x.shape)\n",
    "    with open(filepath, \"wb\") as f:\n",
    "        for el in metadata:\n",
    "            b = struct.pack(\"I\", el)\n",
    "            f.write(b)\n",
    "        for el in x.flatten():\n",
    "            b = struct.pack(\"f\", el)\n",
    "            f.write(b)"
   ]
  },
  {
   "cell_type": "code",
   "execution_count": 22,
   "id": "d53864c4-1734-4814-80cf-cf34a7953631",
   "metadata": {},
   "outputs": [],
   "source": [
    "serialize_matrix(X, \"x.dat\")"
   ]
  },
  {
   "cell_type": "code",
   "execution_count": 23,
   "id": "b7426ac2-7405-4d0f-bc68-3e7a51b31ba1",
   "metadata": {},
   "outputs": [],
   "source": [
    "serialize_matrix(y, \"y.dat\")"
   ]
  },
  {
   "cell_type": "code",
   "execution_count": null,
   "id": "d287831d-ebc6-4e94-b5ad-ddef1e517645",
   "metadata": {},
   "outputs": [],
   "source": []
  }
 ],
 "metadata": {
  "kernelspec": {
   "display_name": "Python 3 (ipykernel)",
   "language": "python",
   "name": "python3"
  },
  "language_info": {
   "codemirror_mode": {
    "name": "ipython",
    "version": 3
   },
   "file_extension": ".py",
   "mimetype": "text/x-python",
   "name": "python",
   "nbconvert_exporter": "python",
   "pygments_lexer": "ipython3",
   "version": "3.11.8"
  }
 },
 "nbformat": 4,
 "nbformat_minor": 5
}
